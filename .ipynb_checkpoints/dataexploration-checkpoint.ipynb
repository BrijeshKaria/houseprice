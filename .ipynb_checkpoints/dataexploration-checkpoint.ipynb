{
 "cells": [
  {
   "cell_type": "code",
   "execution_count": 25,
   "metadata": {},
   "outputs": [],
   "source": [
    "#load traning data\n",
    "import pandas as pd\n",
    "from sklearn.ensemble import RandomForestRegressor\n",
    "from sklearn.datasets import make_regression"
   ]
  },
  {
   "cell_type": "code",
   "execution_count": 26,
   "metadata": {
    "scrolled": true
   },
   "outputs": [
    {
     "name": "stdout",
     "output_type": "stream",
     "text": [
      "PoolQC          1453\n",
      "MiscFeature     1406\n",
      "Alley           1369\n",
      "Fence           1179\n",
      "FireplaceQu      690\n",
      "LotFrontage      259\n",
      "GarageCond        81\n",
      "GarageType        81\n",
      "GarageYrBlt       81\n",
      "GarageFinish      81\n",
      "dtype: int64\n"
     ]
    }
   ],
   "source": [
    "df_train = pd.read_csv('./data/train.csv')\n",
    "df_test =  pd.read_csv('./data/test.csv')\n",
    "total = df_train.isnull().sum().sort_values(ascending=False)\n",
    "print(total.head(10))"
   ]
  },
  {
   "cell_type": "code",
   "execution_count": 27,
   "metadata": {},
   "outputs": [],
   "source": [
    "def datapreprocessing(df):\n",
    "    df.loc[df.MasVnrType.isnull(), 'MasVnrType'] = 'None' # no good\n",
    "    df.loc[df.MasVnrType == 'None', 'MasVnrArea'] = 0\n",
    "    df.loc[df.LotFrontage.isnull(), 'LotFrontage'] = df.LotFrontage.median()\n",
    "    df.loc[df.LotArea.isnull(), 'MasVnrType'] = 0\n",
    "    df.loc[df.BsmtQual.isnull(), 'BsmtQual'] = 'NoBsmt'\n",
    "    df.loc[df.BsmtCond.isnull(), 'BsmtCond'] = 'NoBsmt'\n",
    "    df.loc[df.BsmtExposure.isnull(), 'BsmtExposure'] = 'NoBsmt'\n",
    "    df.loc[df.BsmtFinType1.isnull(), 'BsmtFinType1'] = 'NoBsmt'\n",
    "    df.loc[df.BsmtFinType2.isnull(), 'BsmtFinType2'] = 'NoBsmt'\n",
    "    df.loc[df.BsmtFinType1=='NoBsmt', 'BsmtFinSF1'] = 0\n",
    "    df.loc[df.BsmtFinType2=='NoBsmt', 'BsmtFinSF2'] = 0\n",
    "    df.loc[df.BsmtFinSF1.isnull(), 'BsmtFinSF1'] = df.BsmtFinSF1.median()\n",
    "    df.loc[df.BsmtQual=='NoBsmt', 'BsmtUnfSF'] = 0\n",
    "    df.loc[df.BsmtUnfSF.isnull(), 'BsmtUnfSF'] = df.BsmtUnfSF.median()\n",
    "    df.loc[df.BsmtQual=='NoBsmt', 'TotalBsmtSF'] = 0\n",
    "    df.loc[df.FireplaceQu.isnull(), 'FireplaceQu'] = 'NoFireplace'\n",
    "    df.loc[df.GarageType.isnull(), 'GarageType'] = 'NoGarage'\n",
    "    df.loc[df.GarageFinish.isnull(), 'GarageFinish'] = 'NoGarage'\n",
    "    df.loc[df.GarageQual.isnull(), 'GarageQual'] = 'NoGarage'\n",
    "    df.loc[df.GarageCond.isnull(), 'GarageCond'] = 'NoGarage'\n",
    "    df.loc[df.BsmtFullBath.isnull(), 'BsmtFullBath'] = 0\n",
    "    df.loc[df.BsmtHalfBath.isnull(), 'BsmtHalfBath'] = 0\n",
    "    df.loc[df.KitchenQual.isnull(), 'KitchenQual'] = 'TA'\n",
    "    df.loc[df.MSZoning.isnull(), 'MSZoning'] = 'RL'\n",
    "    df.loc[df.Utilities.isnull(), 'Utilities'] = 'AllPub'\n",
    "    df.loc[df.Exterior1st.isnull(), 'Exterior1st'] = 'VinylSd'\n",
    "    df.loc[df.Exterior2nd.isnull(), 'Exterior2nd'] = 'VinylSd'\n",
    "    df.loc[df.Functional.isnull(), 'Functional'] = 'Typ'\n",
    "    df.loc[df.SaleCondition.isnull(), 'SaleCondition'] = 'Normal'\n",
    "    df.loc[df.SaleCondition.isnull(), 'SaleType'] = 'WD'\n",
    "    df.loc[df['Electrical'].isnull(), 'Electrical'] = 'SBrkr'\n",
    "    df.loc[df['SaleType'].isnull(), 'SaleType'] = 'NoSale'\n",
    "    #GarageYrBlt\n",
    "    df.loc[df.GarageYrBlt.isnull(), 'GarageYrBlt'] = df.GarageYrBlt.median()\n",
    "    # only one is null and it has type Detchd\n",
    "    df.loc[df['GarageArea'].isnull(), 'GarageArea'] = df.loc[df['GarageType']=='Detchd', 'GarageArea'].mean()\n",
    "    df.loc[df['GarageCars'].isnull(), 'GarageCars'] = df.loc[df['GarageType']=='Detchd', 'GarageCars'].median()\n",
    "    \n",
    "#datapreprocessing(df_train)\n",
    "#datapreprocessing(df_test)"
   ]
  },
  {
   "cell_type": "code",
   "execution_count": 28,
   "metadata": {},
   "outputs": [],
   "source": [
    "def convertasCategoty(df,col):\n",
    "    df[col] = df[col].astype('category')\n",
    "    df[col+'_code'] = df[col].cat.codes\n",
    "    df[col] = df[col +'_code']\n",
    "    df.drop(labels=col+'_code', axis=\"columns\", inplace=True)\n",
    "    #return df\n",
    "    \n",
    "cols = df_train.columns\n",
    "for col in cols:\n",
    "    #print(df_train[col].dtype)\n",
    "    if(df_train[col].dtype == 'object'):\n",
    "        #print(\"----Ste at category\")\n",
    "        convertasCategoty(df_train,col)\n",
    "        \n",
    "cols = df_test.columns\n",
    "for col in cols:\n",
    "    #print(df_train[col].dtype)\n",
    "    if(df_test[col].dtype == 'object'):\n",
    "        #print(\"----Ste at category\")\n",
    "        convertasCategoty(df_test,col)\n",
    "        \n"
   ]
  },
  {
   "cell_type": "code",
   "execution_count": 29,
   "metadata": {},
   "outputs": [
    {
     "name": "stdout",
     "output_type": "stream",
     "text": [
      "(1460, 81)\n",
      "(1459, 80)\n"
     ]
    }
   ],
   "source": [
    "df_test_id = df_test['Id']\n",
    "#print(df_test_id)\n",
    "\n",
    "df_train.drop(['Id','PoolQC','MiscFeature','Alley'],axis=1)\n",
    "df_test.drop(['Id','PoolQC','MiscFeature','Alley'],axis=1)\n",
    "\n",
    "print(df_train.shape)\n",
    "print(df_test.shape)"
   ]
  },
  {
   "cell_type": "code",
   "execution_count": 30,
   "metadata": {},
   "outputs": [
    {
     "name": "stdout",
     "output_type": "stream",
     "text": [
      "NAs for numerical features in train : 348\n",
      "Remaining NAs for numerical features in train : 0\n",
      "Remaining NAs for numerical features in test : 0\n"
     ]
    }
   ],
   "source": [
    "   \n",
    "\n",
    "#print(df_train.head())\n",
    "#print(df_train.dtypes)\n",
    "# Handle remaining missing values for numerical features by using median as replacement\n",
    "print(\"NAs for numerical features in train : \" + str(df_train.isnull().values.sum()))\n",
    "df_train = df_train.fillna(df_train.median())\n",
    "df_test = df_test.fillna(df_train.median())\n",
    "print(\"Remaining NAs for numerical features in train : \" + str(df_train.isnull().values.sum()))\n",
    "print(\"Remaining NAs for numerical features in test : \" + str(df_test.isnull().values.sum()))"
   ]
  },
  {
   "cell_type": "code",
   "execution_count": 31,
   "metadata": {
    "scrolled": true
   },
   "outputs": [
    {
     "name": "stdout",
     "output_type": "stream",
     "text": [
      "[ 2.000e+01  3.000e+00  8.000e+01  9.600e+03  1.000e+00 -1.000e+00\n",
      "  3.000e+00  3.000e+00  0.000e+00  2.000e+00  0.000e+00  2.400e+01\n",
      "  1.000e+00  2.000e+00  0.000e+00  2.000e+00  6.000e+00  8.000e+00\n",
      "  1.976e+03  1.976e+03  1.000e+00  1.000e+00  8.000e+00  8.000e+00\n",
      "  2.000e+00  0.000e+00  3.000e+00  4.000e+00  1.000e+00  2.000e+00\n",
      "  3.000e+00  1.000e+00  0.000e+00  9.780e+02  5.000e+00  0.000e+00\n",
      "  2.840e+02  1.262e+03  1.000e+00  0.000e+00  1.000e+00  4.000e+00\n",
      "  1.262e+03  0.000e+00  0.000e+00  1.262e+03  0.000e+00  1.000e+00\n",
      "  2.000e+00  0.000e+00  3.000e+00  1.000e+00  3.000e+00  6.000e+00\n",
      "  6.000e+00  1.000e+00  4.000e+00  1.000e+00  1.976e+03  1.000e+00\n",
      "  2.000e+00  4.600e+02  4.000e+00  4.000e+00  2.000e+00  2.980e+02\n",
      "  0.000e+00  0.000e+00  0.000e+00  0.000e+00  0.000e+00 -1.000e+00\n",
      " -1.000e+00 -1.000e+00  0.000e+00  5.000e+00  2.007e+03  8.000e+00]\n",
      "(1460, 78)\n",
      "[208500 181500 223500 ... 266500 142125 147500]\n",
      "[ 2.0000e+01  3.0000e+00  8.1000e+01  1.4267e+04  1.0000e+00 -1.0000e+00\n",
      "  0.0000e+00  3.0000e+00  0.0000e+00  0.0000e+00  0.0000e+00  1.2000e+01\n",
      "  2.0000e+00  2.0000e+00  0.0000e+00  2.0000e+00  6.0000e+00  6.0000e+00\n",
      "  1.9580e+03  1.9580e+03  3.0000e+00  0.0000e+00  1.1000e+01  1.3000e+01\n",
      "  1.0000e+00  1.0800e+02  3.0000e+00  4.0000e+00  1.0000e+00  3.0000e+00\n",
      "  3.0000e+00  3.0000e+00  0.0000e+00  9.2300e+02  5.0000e+00  0.0000e+00\n",
      "  4.0600e+02  1.3290e+03  0.0000e+00  4.0000e+00  1.0000e+00  3.0000e+00\n",
      "  1.3290e+03  0.0000e+00  0.0000e+00  1.3290e+03  0.0000e+00  0.0000e+00\n",
      "  1.0000e+00  1.0000e+00  3.0000e+00  1.0000e+00  2.0000e+00  6.0000e+00\n",
      "  6.0000e+00  0.0000e+00 -1.0000e+00  1.0000e+00  1.9580e+03  2.0000e+00\n",
      "  1.0000e+00  3.1200e+02  3.0000e+00  4.0000e+00  2.0000e+00  3.9300e+02\n",
      "  3.6000e+01  0.0000e+00  0.0000e+00  0.0000e+00  0.0000e+00 -1.0000e+00\n",
      " -1.0000e+00  0.0000e+00  1.2500e+04  6.0000e+00  2.0100e+03  8.0000e+00]\n",
      "(1459, 78)\n",
      "[4 4 4 ... 0 4 4]\n"
     ]
    }
   ],
   "source": [
    "from sklearn.model_selection import train_test_split\n",
    "\n",
    "\n",
    "X = df_train.iloc[:, 1:-2].values  \n",
    "print(X[1]) \n",
    "print(X.shape)\n",
    "y = df_train.iloc[:, -1].values\n",
    "print(y)\n",
    "\n",
    "X_test = df_test.iloc[:, 1:-1].values  \n",
    "print(X_test[1]) \n",
    "print(X_test.shape)\n",
    "y_test = df_test.iloc[:, -1].values\n",
    "print(y_test)\n",
    "\n",
    "\n",
    "X_train, X_train_test, y_train, y_train_test = train_test_split(X, y, test_size=0.1, random_state=101)"
   ]
  },
  {
   "cell_type": "code",
   "execution_count": 32,
   "metadata": {},
   "outputs": [
    {
     "name": "stderr",
     "output_type": "stream",
     "text": [
      "C:\\Users\\admin\\Anaconda3\\lib\\site-packages\\sklearn\\utils\\validation.py:595: DataConversionWarning: Data with input dtype int64 was converted to float64 by StandardScaler.\n",
      "  warnings.warn(msg, DataConversionWarning)\n",
      "C:\\Users\\admin\\Anaconda3\\lib\\site-packages\\sklearn\\utils\\validation.py:595: DataConversionWarning: Data with input dtype int64 was converted to float64 by StandardScaler.\n",
      "  warnings.warn(msg, DataConversionWarning)\n",
      "C:\\Users\\admin\\Anaconda3\\lib\\site-packages\\sklearn\\utils\\validation.py:595: DataConversionWarning: Data with input dtype int64 was converted to float64 by StandardScaler.\n",
      "  warnings.warn(msg, DataConversionWarning)\n",
      "C:\\Users\\admin\\Anaconda3\\lib\\site-packages\\sklearn\\utils\\validation.py:595: DataConversionWarning: Data with input dtype int64 was converted to float64 by StandardScaler.\n",
      "  warnings.warn(msg, DataConversionWarning)\n",
      "C:\\Users\\admin\\Anaconda3\\lib\\site-packages\\sklearn\\utils\\validation.py:595: DataConversionWarning: Data with input dtype int64 was converted to float64 by StandardScaler.\n",
      "  warnings.warn(msg, DataConversionWarning)\n",
      "C:\\Users\\admin\\Anaconda3\\lib\\site-packages\\sklearn\\utils\\validation.py:595: DataConversionWarning: Data with input dtype int64 was converted to float64 by StandardScaler.\n",
      "  warnings.warn(msg, DataConversionWarning)\n"
     ]
    }
   ],
   "source": [
    "# we are going to scale to data\n",
    "\n",
    "y_train= y_train.reshape(-1,1)\n",
    "y_train_test= y_train_test.reshape(-1,1)\n",
    "y_test= y_train_test.reshape(-1,1)\n",
    "\n",
    "from sklearn.preprocessing import StandardScaler\n",
    "sc_X_train = StandardScaler()\n",
    "sc_y_train = StandardScaler()\n",
    "\n",
    "sc_X_train_test = StandardScaler()\n",
    "sc_y_train_test = StandardScaler()\n",
    "\n",
    "sc_X_test = StandardScaler()\n",
    "sc_y_test = StandardScaler()\n",
    "\n",
    "\n",
    "X_train = sc_X_train.fit_transform(X_train)\n",
    "y_train = sc_y_train.fit_transform(y_train)\n",
    "\n",
    "X_train_test = sc_X_train_test.fit_transform(X_train_test)\n",
    "y_train_test = sc_y_train_test.fit_transform(y_train_test)\n",
    "\n",
    "X_test = sc_X_test.fit_transform(X_test)\n",
    "y_test = sc_y_test.fit_transform(y_test)"
   ]
  },
  {
   "cell_type": "code",
   "execution_count": 33,
   "metadata": {},
   "outputs": [
    {
     "name": "stderr",
     "output_type": "stream",
     "text": [
      "C:\\Users\\admin\\Anaconda3\\lib\\site-packages\\sklearn\\ensemble\\forest.py:246: FutureWarning: The default value of n_estimators will change from 10 in version 0.20 to 100 in 0.22.\n",
      "  \"10 in version 0.20 to 100 in 0.22.\", FutureWarning)\n"
     ]
    },
    {
     "name": "stdout",
     "output_type": "stream",
     "text": [
      "[0.         0.         0.         0.         0.         0.\n",
      " 0.         0.         0.         0.         0.         0.\n",
      " 0.         0.         0.         0.         0.8562382  0.\n",
      " 0.         0.         0.         0.         0.         0.\n",
      " 0.         0.         0.         0.         0.         0.\n",
      " 0.         0.         0.         0.         0.         0.\n",
      " 0.         0.00882001 0.         0.         0.         0.\n",
      " 0.         0.02116058 0.         0.09284664 0.         0.\n",
      " 0.         0.         0.         0.         0.         0.0109722\n",
      " 0.         0.         0.         0.         0.         0.\n",
      " 0.00996235 0.         0.         0.         0.         0.\n",
      " 0.         0.         0.         0.         0.         0.\n",
      " 0.         0.         0.         0.         0.         0.        ]\n"
     ]
    }
   ],
   "source": [
    "#X, y = make_regression(n_features=4, n_informative=2,random_state=0, shuffle=False)\n",
    "regr = RandomForestRegressor(max_depth=2, random_state=0)\n",
    "regr.fit(X, y)\n",
    "RandomForestRegressor(max_depth=2, random_state=0)\n",
    "print(regr.feature_importances_)"
   ]
  },
  {
   "cell_type": "code",
   "execution_count": 34,
   "metadata": {},
   "outputs": [
    {
     "name": "stderr",
     "output_type": "stream",
     "text": [
      "C:\\Users\\admin\\Anaconda3\\lib\\site-packages\\sklearn\\utils\\validation.py:761: DataConversionWarning: A column-vector y was passed when a 1d array was expected. Please change the shape of y to (n_samples, ), for example using ravel().\n",
      "  y = column_or_1d(y, warn=True)\n"
     ]
    },
    {
     "name": "stdout",
     "output_type": "stream",
     "text": [
      "MAE: 0.236584609155939\n",
      "MSE: 0.13527806728032782\n",
      "RMSE: 0.36780166840340434\n"
     ]
    }
   ],
   "source": [
    "from sklearn.svm import SVR\n",
    "from sklearn.metrics import mean_squared_error, r2_score\n",
    "from sklearn import metrics\n",
    "import numpy as np\n",
    "\n",
    "svr = SVR(kernel = 'rbf',gamma='auto')\n",
    "svr.fit(X_train, y_train)\n",
    "\n",
    "svr_pred = svr.predict(X_train_test)\n",
    "svr_pred= svr_pred.reshape(-1,1)\n",
    "\n",
    "print('MAE:', metrics.mean_absolute_error(y_train_test, svr_pred))\n",
    "print('MSE:', metrics.mean_squared_error(y_train_test, svr_pred))\n",
    "print('RMSE:', np.sqrt(metrics.mean_squared_error(y_train_test, svr_pred)))"
   ]
  },
  {
   "cell_type": "code",
   "execution_count": 35,
   "metadata": {},
   "outputs": [
    {
     "name": "stderr",
     "output_type": "stream",
     "text": [
      "C:\\Users\\admin\\Anaconda3\\lib\\site-packages\\sklearn\\utils\\validation.py:761: DataConversionWarning: A column-vector y was passed when a 1d array was expected. Please change the shape of y to (n_samples, ), for example using ravel().\n",
      "  y = column_or_1d(y, warn=True)\n"
     ]
    },
    {
     "name": "stdout",
     "output_type": "stream",
     "text": [
      "MAE: 0.21022910696011998\n",
      "MSE: 0.10793411607512507\n",
      "RMSE: 0.3285332800115158\n"
     ]
    }
   ],
   "source": [
    "from sklearn import ensemble\n",
    "from sklearn.utils import shuffle\n",
    "from sklearn.metrics import mean_squared_error, r2_score\n",
    "\n",
    "params = {'n_estimators': 500, 'max_depth': 4, 'min_samples_split': 2,\n",
    "          'learning_rate': 0.01, 'loss': 'ls'}\n",
    "params1={'n_estimators':3000, 'learning_rate':0.05, 'max_depth':4, 'max_features':'sqrt',\n",
    "                                   'min_samples_leaf':15, 'min_samples_split':2, \n",
    "                                   'loss':'huber', 'random_state':5}\n",
    "clf = ensemble.GradientBoostingRegressor(**params1)\n",
    "\n",
    "clf.fit(X_train, y_train)\n",
    "\n",
    "clf_pred=clf.predict(X_train_test)\n",
    "clf_pred= clf_pred.reshape(-1,1)\n",
    "\n",
    "print('MAE:', metrics.mean_absolute_error(y_train_test, clf_pred))\n",
    "print('MSE:', metrics.mean_squared_error(y_train_test, clf_pred))\n",
    "print('RMSE:', np.sqrt(metrics.mean_squared_error(y_train_test, clf_pred)))\n",
    "\n"
   ]
  },
  {
   "cell_type": "code",
   "execution_count": 36,
   "metadata": {},
   "outputs": [
    {
     "data": {
      "text/html": [
       "<div>\n",
       "<style scoped>\n",
       "    .dataframe tbody tr th:only-of-type {\n",
       "        vertical-align: middle;\n",
       "    }\n",
       "\n",
       "    .dataframe tbody tr th {\n",
       "        vertical-align: top;\n",
       "    }\n",
       "\n",
       "    .dataframe thead th {\n",
       "        text-align: right;\n",
       "    }\n",
       "</style>\n",
       "<table border=\"1\" class=\"dataframe\">\n",
       "  <thead>\n",
       "    <tr style=\"text-align: right;\">\n",
       "      <th></th>\n",
       "      <th>SalePrice</th>\n",
       "    </tr>\n",
       "  </thead>\n",
       "  <tbody>\n",
       "    <tr>\n",
       "      <th>0</th>\n",
       "      <td>259869.944647</td>\n",
       "    </tr>\n",
       "    <tr>\n",
       "      <th>1</th>\n",
       "      <td>143644.036390</td>\n",
       "    </tr>\n",
       "    <tr>\n",
       "      <th>2</th>\n",
       "      <td>141419.507156</td>\n",
       "    </tr>\n",
       "    <tr>\n",
       "      <th>3</th>\n",
       "      <td>367951.784262</td>\n",
       "    </tr>\n",
       "    <tr>\n",
       "      <th>4</th>\n",
       "      <td>385665.853171</td>\n",
       "    </tr>\n",
       "  </tbody>\n",
       "</table>\n",
       "</div>"
      ],
      "text/plain": [
       "       SalePrice\n",
       "0  259869.944647\n",
       "1  143644.036390\n",
       "2  141419.507156\n",
       "3  367951.784262\n",
       "4  385665.853171"
      ]
     },
     "execution_count": 36,
     "metadata": {},
     "output_type": "execute_result"
    }
   ],
   "source": [
    "clf_pred =sc_y_train_test.inverse_transform(clf_pred)\n",
    "#print(clf_pred)\n",
    "df_clf_pred = pd.DataFrame(clf_pred, columns=['SalePrice'])\n",
    "df_clf_pred.head()"
   ]
  },
  {
   "cell_type": "code",
   "execution_count": 37,
   "metadata": {},
   "outputs": [
    {
     "data": {
      "text/html": [
       "<div>\n",
       "<style scoped>\n",
       "    .dataframe tbody tr th:only-of-type {\n",
       "        vertical-align: middle;\n",
       "    }\n",
       "\n",
       "    .dataframe tbody tr th {\n",
       "        vertical-align: top;\n",
       "    }\n",
       "\n",
       "    .dataframe thead th {\n",
       "        text-align: right;\n",
       "    }\n",
       "</style>\n",
       "<table border=\"1\" class=\"dataframe\">\n",
       "  <thead>\n",
       "    <tr style=\"text-align: right;\">\n",
       "      <th></th>\n",
       "      <th>SalePrice</th>\n",
       "    </tr>\n",
       "  </thead>\n",
       "  <tbody>\n",
       "    <tr>\n",
       "      <th>0</th>\n",
       "      <td>121576.186320</td>\n",
       "    </tr>\n",
       "    <tr>\n",
       "      <th>1</th>\n",
       "      <td>163791.546878</td>\n",
       "    </tr>\n",
       "    <tr>\n",
       "      <th>2</th>\n",
       "      <td>182342.716017</td>\n",
       "    </tr>\n",
       "    <tr>\n",
       "      <th>3</th>\n",
       "      <td>197793.900473</td>\n",
       "    </tr>\n",
       "    <tr>\n",
       "      <th>4</th>\n",
       "      <td>176751.063136</td>\n",
       "    </tr>\n",
       "  </tbody>\n",
       "</table>\n",
       "</div>"
      ],
      "text/plain": [
       "       SalePrice\n",
       "0  121576.186320\n",
       "1  163791.546878\n",
       "2  182342.716017\n",
       "3  197793.900473\n",
       "4  176751.063136"
      ]
     },
     "execution_count": 37,
     "metadata": {},
     "output_type": "execute_result"
    }
   ],
   "source": [
    "#try gbr on test data\n",
    "clf_pred=clf.predict(X_test)\n",
    "clf_pred= clf_pred.reshape(-1,1)\n",
    "clf_pred =sc_y_test.inverse_transform(clf_pred)\n",
    "#print(clf_pred)\n",
    "df_clf_pred = pd.DataFrame(clf_pred, columns=['SalePrice'])\n",
    "df_clf_pred.head()"
   ]
  },
  {
   "cell_type": "code",
   "execution_count": 38,
   "metadata": {
    "scrolled": true
   },
   "outputs": [
    {
     "name": "stdout",
     "output_type": "stream",
     "text": [
      "     Id      SalePrice\n",
      "0  1461  121576.186320\n",
      "1  1462  163791.546878\n",
      "2  1463  182342.716017\n",
      "3  1464  197793.900473\n",
      "4  1465  176751.063136\n"
     ]
    }
   ],
   "source": [
    "#submission data\n",
    "df_sub = pd.concat([df_test_id,df_clf_pred],axis=1)\n",
    "print(df_sub.head())"
   ]
  },
  {
   "cell_type": "code",
   "execution_count": 39,
   "metadata": {},
   "outputs": [],
   "source": [
    "df_sub.to_csv('./data/submission.csv',index=False)"
   ]
  },
  {
   "cell_type": "markdown",
   "metadata": {},
   "source": [
    "Change Log\n",
    "++++++++++++++++++++++++++++++++++=\n",
    "\n",
    "Feartue Engineering\n",
    "Replace missing values by median\n",
    "\n",
    "Model\n",
    "SVR\n",
    "\n",
    "Score\n",
    "MAE: 50138.725050989204\n",
    "    \n",
    "MSE: 5299712145.626122\n",
    "    \n",
    "RMSE: 72799.12187400424\n",
    "\n",
    "+++++++++++++++++++++++++++++++++\n",
    "Params1\n",
    "MAE: 0.21022910696011998\n",
    "MSE: 0.10793411607512507\n",
    "RMSE: 0.3285332800115158\n",
    "    \n",
    "Params\n",
    "MAE: 0.21493207760478975\n",
    "MSE: 0.11624055545701495\n",
    "RMSE: 0.3409406919935122\n",
    "\n"
   ]
  }
 ],
 "metadata": {
  "kernelspec": {
   "display_name": "Python 3",
   "language": "python",
   "name": "python3"
  },
  "language_info": {
   "codemirror_mode": {
    "name": "ipython",
    "version": 3
   },
   "file_extension": ".py",
   "mimetype": "text/x-python",
   "name": "python",
   "nbconvert_exporter": "python",
   "pygments_lexer": "ipython3",
   "version": "3.7.3"
  }
 },
 "nbformat": 4,
 "nbformat_minor": 2
}
