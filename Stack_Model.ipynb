{
 "cells": [
  {
   "cell_type": "code",
   "execution_count": 1,
   "metadata": {},
   "outputs": [],
   "source": [
    "import warnings\n",
    "warnings.filterwarnings('ignore')\n",
    "#load traning data\n",
    "import pandas as pd\n",
    "import numpy as np\n",
    "from sklearn.ensemble import RandomForestRegressor\n",
    "from sklearn.kernel_ridge import KernelRidge\n",
    "from sklearn.datasets import make_regression\n",
    "import xgboost as xgb\n",
    "from xgboost import XGBRegressor\n",
    "from mlxtend.regressor import StackingCVRegressor\n",
    "from sklearn.linear_model import Lasso\n",
    "from sklearn.linear_model import Ridge\n",
    "from sklearn.model_selection import GridSearchCV\n",
    "from sklearn.svm import SVR\n",
    "from sklearn.linear_model import ElasticNet\n",
    "from sklearn.metrics import mean_squared_error, r2_score\n",
    "from sklearn import metrics\n",
    "from sklearn import ensemble\n",
    "from sklearn.utils import shuffle\n",
    "from sklearn.model_selection import KFold, cross_val_score, train_test_split\n",
    "from lightgbm import LGBMRegressor\n",
    "from sklearn.pipeline import make_pipeline\n",
    "from sklearn.preprocessing import RobustScaler\n",
    "from sklearn.preprocessing import StandardScaler\n",
    "import csv\n",
    "import datetime\n",
    "import os.path\n",
    "from os import path\n",
    "from datetime import datetime\n",
    "from sklearn.linear_model import ElasticNetCV, LassoCV, RidgeCV\n",
    "pd.set_option('display.float_format', lambda x: '{:.3f}'.format(x)) #Limiting floats output to 3 decimal points\n",
    "import pickle\n",
    "\n",
    "\n",
    "from StackingAveragedModels import StackingAveragedModels"
   ]
  },
  {
   "cell_type": "code",
   "execution_count": 2,
   "metadata": {},
   "outputs": [],
   "source": [
    "REMOVE_ONLY_2_Outliers = True\n",
    "USE_DUMMY_CAT_FEATURES = True\n",
    "STACK_MODELLING = True\n",
    "RANDOM_SEED = 42"
   ]
  },
  {
   "cell_type": "code",
   "execution_count": 3,
   "metadata": {},
   "outputs": [
    {
     "data": {
      "text/html": [
       "<div>\n",
       "<style scoped>\n",
       "    .dataframe tbody tr th:only-of-type {\n",
       "        vertical-align: middle;\n",
       "    }\n",
       "\n",
       "    .dataframe tbody tr th {\n",
       "        vertical-align: top;\n",
       "    }\n",
       "\n",
       "    .dataframe thead th {\n",
       "        text-align: right;\n",
       "    }\n",
       "</style>\n",
       "<table border=\"1\" class=\"dataframe\">\n",
       "  <thead>\n",
       "    <tr style=\"text-align: right;\">\n",
       "      <th></th>\n",
       "      <th>1stFlrSF</th>\n",
       "      <th>2ndFlrSF</th>\n",
       "      <th>3SsnPorch</th>\n",
       "      <th>Alley</th>\n",
       "      <th>BedroomAbvGr</th>\n",
       "      <th>BsmtCond</th>\n",
       "      <th>BsmtExposure</th>\n",
       "      <th>BsmtFinSF1</th>\n",
       "      <th>BsmtFinSF2</th>\n",
       "      <th>BsmtFinType1</th>\n",
       "      <th>...</th>\n",
       "      <th>SaleCondition_Partial</th>\n",
       "      <th>SaleType_COD</th>\n",
       "      <th>SaleType_CWD</th>\n",
       "      <th>SaleType_Con</th>\n",
       "      <th>SaleType_ConLD</th>\n",
       "      <th>SaleType_ConLI</th>\n",
       "      <th>SaleType_ConLw</th>\n",
       "      <th>SaleType_New</th>\n",
       "      <th>SaleType_Oth</th>\n",
       "      <th>SaleType_WD</th>\n",
       "    </tr>\n",
       "  </thead>\n",
       "  <tbody>\n",
       "    <tr>\n",
       "      <th>0</th>\n",
       "      <td>11.693</td>\n",
       "      <td>11.686</td>\n",
       "      <td>0.000</td>\n",
       "      <td>0.730</td>\n",
       "      <td>1.541</td>\n",
       "      <td>1.820</td>\n",
       "      <td>1.541</td>\n",
       "      <td>11.170</td>\n",
       "      <td>0.000</td>\n",
       "      <td>1.194</td>\n",
       "      <td>...</td>\n",
       "      <td>0</td>\n",
       "      <td>0</td>\n",
       "      <td>0</td>\n",
       "      <td>0</td>\n",
       "      <td>0</td>\n",
       "      <td>0</td>\n",
       "      <td>0</td>\n",
       "      <td>0</td>\n",
       "      <td>0</td>\n",
       "      <td>1</td>\n",
       "    </tr>\n",
       "  </tbody>\n",
       "</table>\n",
       "<p>1 rows × 220 columns</p>\n",
       "</div>"
      ],
      "text/plain": [
       "   1stFlrSF  2ndFlrSF  3SsnPorch  Alley  BedroomAbvGr  BsmtCond  BsmtExposure  \\\n",
       "0    11.693    11.686      0.000  0.730         1.541     1.820         1.541   \n",
       "\n",
       "   BsmtFinSF1  BsmtFinSF2  BsmtFinType1  ...  SaleCondition_Partial  \\\n",
       "0      11.170       0.000         1.194  ...                      0   \n",
       "\n",
       "   SaleType_COD  SaleType_CWD  SaleType_Con  SaleType_ConLD  SaleType_ConLI  \\\n",
       "0             0             0             0               0               0   \n",
       "\n",
       "   SaleType_ConLw  SaleType_New  SaleType_Oth  SaleType_WD  \n",
       "0               0             0             0            1  \n",
       "\n",
       "[1 rows x 220 columns]"
      ]
     },
     "metadata": {},
     "output_type": "display_data"
    },
    {
     "data": {
      "text/html": [
       "<div>\n",
       "<style scoped>\n",
       "    .dataframe tbody tr th:only-of-type {\n",
       "        vertical-align: middle;\n",
       "    }\n",
       "\n",
       "    .dataframe tbody tr th {\n",
       "        vertical-align: top;\n",
       "    }\n",
       "\n",
       "    .dataframe thead th {\n",
       "        text-align: right;\n",
       "    }\n",
       "</style>\n",
       "<table border=\"1\" class=\"dataframe\">\n",
       "  <thead>\n",
       "    <tr style=\"text-align: right;\">\n",
       "      <th></th>\n",
       "      <th>1stFlrSF</th>\n",
       "      <th>2ndFlrSF</th>\n",
       "      <th>3SsnPorch</th>\n",
       "      <th>Alley</th>\n",
       "      <th>BedroomAbvGr</th>\n",
       "      <th>BsmtCond</th>\n",
       "      <th>BsmtExposure</th>\n",
       "      <th>BsmtFinSF1</th>\n",
       "      <th>BsmtFinSF2</th>\n",
       "      <th>BsmtFinType1</th>\n",
       "      <th>...</th>\n",
       "      <th>SaleCondition_Partial</th>\n",
       "      <th>SaleType_COD</th>\n",
       "      <th>SaleType_CWD</th>\n",
       "      <th>SaleType_Con</th>\n",
       "      <th>SaleType_ConLD</th>\n",
       "      <th>SaleType_ConLI</th>\n",
       "      <th>SaleType_ConLw</th>\n",
       "      <th>SaleType_New</th>\n",
       "      <th>SaleType_Oth</th>\n",
       "      <th>SaleType_WD</th>\n",
       "    </tr>\n",
       "  </thead>\n",
       "  <tbody>\n",
       "    <tr>\n",
       "      <th>0</th>\n",
       "      <td>11.819</td>\n",
       "      <td>0.000</td>\n",
       "      <td>0.000</td>\n",
       "      <td>0.730</td>\n",
       "      <td>1.194</td>\n",
       "      <td>1.820</td>\n",
       "      <td>1.541</td>\n",
       "      <td>10.105</td>\n",
       "      <td>7.397</td>\n",
       "      <td>2.056</td>\n",
       "      <td>...</td>\n",
       "      <td>0</td>\n",
       "      <td>0</td>\n",
       "      <td>0</td>\n",
       "      <td>0</td>\n",
       "      <td>0</td>\n",
       "      <td>0</td>\n",
       "      <td>0</td>\n",
       "      <td>0</td>\n",
       "      <td>0</td>\n",
       "      <td>1</td>\n",
       "    </tr>\n",
       "  </tbody>\n",
       "</table>\n",
       "<p>1 rows × 220 columns</p>\n",
       "</div>"
      ],
      "text/plain": [
       "   1stFlrSF  2ndFlrSF  3SsnPorch  Alley  BedroomAbvGr  BsmtCond  BsmtExposure  \\\n",
       "0    11.819     0.000      0.000  0.730         1.194     1.820         1.541   \n",
       "\n",
       "   BsmtFinSF1  BsmtFinSF2  BsmtFinType1  ...  SaleCondition_Partial  \\\n",
       "0      10.105       7.397         2.056  ...                      0   \n",
       "\n",
       "   SaleType_COD  SaleType_CWD  SaleType_Con  SaleType_ConLD  SaleType_ConLI  \\\n",
       "0             0             0             0               0               0   \n",
       "\n",
       "   SaleType_ConLw  SaleType_New  SaleType_Oth  SaleType_WD  \n",
       "0               0             0             0            1  \n",
       "\n",
       "[1 rows x 220 columns]"
      ]
     },
     "metadata": {},
     "output_type": "display_data"
    },
    {
     "data": {
      "text/html": [
       "<div>\n",
       "<style scoped>\n",
       "    .dataframe tbody tr th:only-of-type {\n",
       "        vertical-align: middle;\n",
       "    }\n",
       "\n",
       "    .dataframe tbody tr th {\n",
       "        vertical-align: top;\n",
       "    }\n",
       "\n",
       "    .dataframe thead th {\n",
       "        text-align: right;\n",
       "    }\n",
       "</style>\n",
       "<table border=\"1\" class=\"dataframe\">\n",
       "  <thead>\n",
       "    <tr style=\"text-align: right;\">\n",
       "      <th></th>\n",
       "      <th>SalePrice</th>\n",
       "    </tr>\n",
       "  </thead>\n",
       "  <tbody>\n",
       "    <tr>\n",
       "      <th>0</th>\n",
       "      <td>12.248</td>\n",
       "    </tr>\n",
       "  </tbody>\n",
       "</table>\n",
       "</div>"
      ],
      "text/plain": [
       "   SalePrice\n",
       "0     12.248"
      ]
     },
     "metadata": {},
     "output_type": "display_data"
    },
    {
     "name": "stdout",
     "output_type": "stream",
     "text": [
      "Index(['1stFlrSF', '2ndFlrSF', '3SsnPorch', 'Alley', 'BedroomAbvGr',\n",
      "       'BsmtCond', 'BsmtExposure', 'BsmtFinSF1', 'BsmtFinSF2', 'BsmtFinType1',\n",
      "       ...\n",
      "       'SaleCondition_Partial', 'SaleType_COD', 'SaleType_CWD', 'SaleType_Con',\n",
      "       'SaleType_ConLD', 'SaleType_ConLI', 'SaleType_ConLw', 'SaleType_New',\n",
      "       'SaleType_Oth', 'SaleType_WD'],\n",
      "      dtype='object', length=220)\n"
     ]
    }
   ],
   "source": [
    "df_X_train = pd.read_csv('./data/train_X_clean.csv')\n",
    "df_X_test =  pd.read_csv('./data/test_X_clean.csv')\n",
    "df_y_train = pd.read_csv('./data/train_y_clean.csv')\n",
    "\n",
    "display(df_X_train.head(1))\n",
    "display(df_X_test.head(1))\n",
    "display(df_y_train.head(1))\n",
    "print(df_X_train.columns)"
   ]
  },
  {
   "cell_type": "code",
   "execution_count": 4,
   "metadata": {},
   "outputs": [
    {
     "name": "stdout",
     "output_type": "stream",
     "text": [
      "(1458, 220)\n",
      "(1458, 1)\n",
      "[12.24769912 12.10901644 12.31717117 ... 12.49313327 11.86446927\n",
      " 11.90159023]\n"
     ]
    }
   ],
   "source": [
    "X = df_X_train.iloc[:, 0:].values \n",
    "print(X.shape)\n",
    "#print(X[0])\n",
    "\n",
    "y = df_y_train.iloc[:, 0:].values \n",
    "print(y.shape)\n",
    "y = df_y_train.values.reshape(df_y_train.values.shape[0],) \n",
    "print(y)"
   ]
  },
  {
   "cell_type": "code",
   "execution_count": 5,
   "metadata": {},
   "outputs": [],
   "source": [
    "#Validation function\n",
    "n_folds = 5\n",
    "\n",
    "kfolds = KFold(n_splits=n_folds, shuffle=True, random_state=42)\n",
    "\n",
    "\n",
    "# rmsle\n",
    "def rmsle(y, y_pred):\n",
    "    return np.sqrt(mean_squared_error(y, y_pred))\n",
    "\n",
    "\n",
    "# build our model scoring function\n",
    "def cv_rmse(model, X=X):\n",
    "    rmse = np.sqrt(-cross_val_score(model, X, y, scoring=\"neg_mean_squared_error\", cv=kfolds))\n",
    "    return (rmse)"
   ]
  },
  {
   "cell_type": "code",
   "execution_count": 6,
   "metadata": {},
   "outputs": [],
   "source": [
    "# setup models    \n",
    "alphas_alt = [14.5, 14.6, 14.7, 14.8, 14.9, 15, 15.1, 15.2, 15.3, 15.4, 15.5]\n",
    "alphas2 = [5e-05, 0.0001, 0.0002, 0.0003, 0.0004, 0.0005, 0.0006, 0.0007, 0.0008]\n",
    "e_alphas = [0.0001, 0.0002, 0.0003, 0.0004, 0.0005, 0.0006, 0.0007]\n",
    "e_l1ratio = [0.8, 0.85, 0.9, 0.95, 0.99, 1]"
   ]
  },
  {
   "cell_type": "code",
   "execution_count": 7,
   "metadata": {},
   "outputs": [],
   "source": [
    "#lasso = make_pipeline(RobustScaler(), LassoCV(max_iter=1e7, alphas=alphas2, random_state=42, cv=kfolds))\n",
    "lasso = make_pipeline(RobustScaler(), Lasso(alpha =0.0005, random_state=1))"
   ]
  },
  {
   "cell_type": "code",
   "execution_count": 8,
   "metadata": {},
   "outputs": [],
   "source": [
    "#elasticnet = make_pipeline(RobustScaler(), ElasticNetCV(max_iter=1e7, alphas=e_alphas, \n",
    "#                                                        cv=kfolds, random_state=42, l1_ratio=e_l1ratio))\n",
    "elasticnet = make_pipeline(RobustScaler(), ElasticNet(alpha=0.0005, l1_ratio=.9, random_state=3))"
   ]
  },
  {
   "cell_type": "code",
   "execution_count": 9,
   "metadata": {},
   "outputs": [],
   "source": [
    "KRR = KernelRidge(alpha=0.6, kernel='polynomial', degree=2, coef0=2.5)"
   ]
  },
  {
   "cell_type": "code",
   "execution_count": 10,
   "metadata": {},
   "outputs": [],
   "source": [
    "gbr = ensemble.GradientBoostingRegressor(n_estimators=3000, learning_rate=0.05, max_depth=4, max_features='sqrt',\n",
    "                                min_samples_leaf=15, min_samples_split=10, loss='huber', random_state =42)"
   ]
  },
  {
   "cell_type": "code",
   "execution_count": 11,
   "metadata": {},
   "outputs": [],
   "source": [
    "xgboost = xgb.XGBRegressor(colsample_bytree=0.4, gamma=0.4,learning_rate=0.03, max_depth=3, min_child_weight=1.5,\n",
    "                           n_estimators=5000, reg_alpha=0.45, reg_lambda=0.85,subsample=0.5, seed=42, silent=1, \n",
    "                           random_state =7, nthread = -1) "
   ]
  },
  {
   "cell_type": "code",
   "execution_count": 12,
   "metadata": {},
   "outputs": [],
   "source": [
    "lightgbm = LGBMRegressor(objective='regression', num_leaves=4,learning_rate=0.03, n_estimators=5000,\n",
    "                         max_bin=100, bagging_fraction=0.75,bagging_freq=5, bagging_seed=7,feature_fraction=0.2,\n",
    "                         feature_fraction_seed=7,verbose=-1)"
   ]
  },
  {
   "cell_type": "code",
   "execution_count": 13,
   "metadata": {},
   "outputs": [],
   "source": [
    "ridge = make_pipeline(RobustScaler(), RidgeCV(alphas=alphas_alt, cv=kfolds,))"
   ]
  },
  {
   "cell_type": "code",
   "execution_count": 14,
   "metadata": {},
   "outputs": [],
   "source": [
    "svr = make_pipeline(RobustScaler(),\n",
    "                      SVR(C= 20, epsilon= 0.008, gamma=0.0003,))"
   ]
  },
  {
   "cell_type": "code",
   "execution_count": 15,
   "metadata": {},
   "outputs": [],
   "source": [
    "rf = RandomForestRegressor(random_state=RANDOM_SEED)"
   ]
  },
  {
   "cell_type": "code",
   "execution_count": 16,
   "metadata": {},
   "outputs": [],
   "source": [
    "svr = SVR(kernel = 'rbf',gamma='auto')"
   ]
  },
  {
   "cell_type": "code",
   "execution_count": 17,
   "metadata": {},
   "outputs": [],
   "source": [
    "#stack_gen = StackingCVRegressor(regressors=(ridge, lasso, svr, lightgbm, gbr, xgboost, rf), \n",
    "#                                meta_regressor=xgboost,use_features_in_secondary=True)\n",
    "\n",
    "stack_gen = StackingAveragedModels(base_models = (elasticnet, gbr, KRR), meta_model = lasso)\n"
   ]
  },
  {
   "cell_type": "code",
   "execution_count": 18,
   "metadata": {},
   "outputs": [],
   "source": [
    "score = cv_rmse(stack_gen)"
   ]
  },
  {
   "cell_type": "code",
   "execution_count": 19,
   "metadata": {},
   "outputs": [
    {
     "name": "stdout",
     "output_type": "stream",
     "text": [
      "TEST score on CV\n"
     ]
    }
   ],
   "source": [
    "print('TEST score on CV')"
   ]
  },
  {
   "cell_type": "code",
   "execution_count": 20,
   "metadata": {},
   "outputs": [
    {
     "name": "stdout",
     "output_type": "stream",
     "text": [
      "\n",
      "Lasso score: 0.1123 (0.0080)\n",
      " 2020-01-05 16:07:01.131389\n"
     ]
    }
   ],
   "source": [
    "score = cv_rmse(lasso)\n",
    "print(\"\\nLasso score: {:.4f} ({:.4f})\\n\".format(score.mean(), score.std()), datetime.now(), )"
   ]
  },
  {
   "cell_type": "code",
   "execution_count": 21,
   "metadata": {},
   "outputs": [
    {
     "name": "stdout",
     "output_type": "stream",
     "text": [
      "ElasticNet score: 0.1124 (0.0081)\n",
      "\n"
     ]
    }
   ],
   "source": [
    "score = cv_rmse(elasticnet)\n",
    "print(\"ElasticNet score: {:.4f} ({:.4f})\\n\".format(score.mean(), score.std()))"
   ]
  },
  {
   "cell_type": "code",
   "execution_count": 22,
   "metadata": {},
   "outputs": [
    {
     "name": "stdout",
     "output_type": "stream",
     "text": [
      "\n",
      "Kernel Ridge score: 0.1156 (0.0078)\n",
      " 2020-01-05 16:07:03.112387\n"
     ]
    }
   ],
   "source": [
    "score = cv_rmse(KRR)\n",
    "print(\"\\nKernel Ridge score: {:.4f} ({:.4f})\\n\".format(score.mean(), score.std()), datetime.now(), )"
   ]
  },
  {
   "cell_type": "code",
   "execution_count": 23,
   "metadata": {},
   "outputs": [
    {
     "name": "stdout",
     "output_type": "stream",
     "text": [
      "\n",
      "GradientBoosting score: 0.1161 (0.0099)\n",
      " 2020-01-05 16:08:06.626508\n"
     ]
    }
   ],
   "source": [
    "score = cv_rmse(gbr)\n",
    "print(\"\\nGradientBoosting score: {:.4f} ({:.4f})\\n\".format(score.mean(), score.std()), datetime.now(), )"
   ]
  },
  {
   "cell_type": "code",
   "execution_count": 24,
   "metadata": {},
   "outputs": [
    {
     "name": "stdout",
     "output_type": "stream",
     "text": [
      "\n",
      "Xgboost score: 0.1320 (0.0070)\n",
      " 2020-01-05 16:09:49.098843\n"
     ]
    }
   ],
   "source": [
    "score = cv_rmse(xgboost)\n",
    "print(\"\\nXgboost score: {:.4f} ({:.4f})\\n\".format(score.mean(), score.std()), datetime.now(), )"
   ]
  },
  {
   "cell_type": "code",
   "execution_count": 25,
   "metadata": {},
   "outputs": [
    {
     "name": "stdout",
     "output_type": "stream",
     "text": [
      "\n",
      "Lightgbm score: 0.1193 (0.0065)\n",
      " 2020-01-05 16:09:59.694160\n"
     ]
    }
   ],
   "source": [
    "score = cv_rmse(lightgbm)\n",
    "print(\"\\nLightgbm score: {:.4f} ({:.4f})\\n\".format(score.mean(), score.std()), datetime.now(), )"
   ]
  },
  {
   "cell_type": "code",
   "execution_count": 26,
   "metadata": {},
   "outputs": [
    {
     "name": "stdout",
     "output_type": "stream",
     "text": [
      "Stacking Averaged models score: 0.1087 (0.0089)\n"
     ]
    }
   ],
   "source": [
    "from StackingAveragedModels import StackingAveragedModels\n",
    "score = cv_rmse(stack_gen)\n",
    "print(\"Stacking Averaged models score: {:.4f} ({:.4f})\".format(score.mean(), score.std()))"
   ]
  },
  {
   "cell_type": "code",
   "execution_count": 27,
   "metadata": {},
   "outputs": [
    {
     "name": "stdout",
     "output_type": "stream",
     "text": [
      "\n",
      "SVR score: 0.1504 (0.0073)\n",
      " 2020-01-05 16:15:01.744378\n"
     ]
    }
   ],
   "source": [
    "score = cv_rmse(svr)\n",
    "print(\"\\nSVR score: {:.4f} ({:.4f})\\n\".format(score.mean(), score.std()), datetime.now(), )"
   ]
  },
  {
   "cell_type": "code",
   "execution_count": 28,
   "metadata": {},
   "outputs": [
    {
     "name": "stdout",
     "output_type": "stream",
     "text": [
      "\n",
      "RandomForestRegressor score: 0.1467 (0.0094)\n",
      " 2020-01-05 16:15:03.575367\n"
     ]
    }
   ],
   "source": [
    "score = cv_rmse(rf)\n",
    "print(\"\\nRandomForestRegressor score: {:.4f} ({:.4f})\\n\".format(score.mean(), score.std()), datetime.now(), )"
   ]
  },
  {
   "cell_type": "code",
   "execution_count": 29,
   "metadata": {
    "scrolled": true
   },
   "outputs": [
    {
     "name": "stdout",
     "output_type": "stream",
     "text": [
      "START Fit\n",
      "2020-01-05 16:15:03.599370 StackingCVRegressor\n",
      "2020-01-05 16:16:11.757879 lasso\n",
      "2020-01-05 16:16:12.007885 ridge\n",
      "2020-01-05 16:16:13.506880 svr\n",
      "2020-01-05 16:16:13.877892 GradientBoosting\n",
      "2020-01-05 16:16:28.056893 xgboost\n",
      "2020-01-05 16:16:49.352357 lightgbm\n",
      "2020-01-05 16:16:51.966149 RandomForestRegressor\n"
     ]
    }
   ],
   "source": [
    "print('START Fit')\n",
    "print(datetime.now(), 'StackingCVRegressor')\n",
    "stack_gen_model = stack_gen.fit(X, y)\n",
    "# save the model to disk\n",
    "filename = 'stack_gen.sav'\n",
    "pickle.dump(stack_gen_model, open(filename, 'wb'))\n",
    "\n",
    "print(datetime.now(), 'lasso')\n",
    "lasso_model_full_data = lasso.fit(X, y)\n",
    "filename = 'lasso.sav'\n",
    "pickle.dump(lasso_model_full_data, open(filename, 'wb'))\n",
    "\n",
    "print(datetime.now(), 'ridge')\n",
    "ridge_model_full_data = ridge.fit(X, y)\n",
    "filename = 'ridge.sav'\n",
    "pickle.dump(ridge_model_full_data, open(filename, 'wb'))\n",
    "\n",
    "print(datetime.now(), 'svr')\n",
    "svr_model_full_data = svr.fit(X, y)\n",
    "filename = 'svr.sav'\n",
    "pickle.dump(svr_model_full_data, open(filename, 'wb'))\n",
    "\n",
    "print(datetime.now(), 'GradientBoosting')\n",
    "gbr_model_full_data = gbr.fit(X, y)\n",
    "filename = 'gbr.sav'\n",
    "pickle.dump(gbr_model_full_data, open(filename, 'wb'))\n",
    "\n",
    "\n",
    "print(datetime.now(), 'xgboost')\n",
    "xgb_model_full_data = xgboost.fit(X, y)\n",
    "filename = 'xgboost.sav'\n",
    "pickle.dump(xgb_model_full_data, open(filename, 'wb'))\n",
    "\n",
    "print(datetime.now(), 'lightgbm')\n",
    "lgb_model_full_data = lightgbm.fit(X, y)\n",
    "filename = 'lightgbm.sav'\n",
    "pickle.dump(lgb_model_full_data, open(filename, 'wb'))\n",
    "\n",
    "\n",
    "print(datetime.now(), 'RandomForestRegressor')\n",
    "rf_model_full_data = rf.fit(X, y)\n",
    "filename = 'rf.sav'\n",
    "pickle.dump(rf_model_full_data, open(filename, 'wb'))"
   ]
  },
  {
   "cell_type": "code",
   "execution_count": 32,
   "metadata": {},
   "outputs": [
    {
     "name": "stdout",
     "output_type": "stream",
     "text": [
      "0.07943770096851781\n"
     ]
    }
   ],
   "source": [
    "stacked_train_pred = stack_gen_model.predict(X)\n",
    "print(rmsle(y, stacked_train_pred))"
   ]
  },
  {
   "cell_type": "code",
   "execution_count": 34,
   "metadata": {},
   "outputs": [
    {
     "name": "stdout",
     "output_type": "stream",
     "text": [
      "0.04911485479104181\n"
     ]
    }
   ],
   "source": [
    "gbr_train_pred = gbr_model_full_data.predict(X)\n",
    "print(rmsle(y, gbr_train_pred))"
   ]
  },
  {
   "cell_type": "code",
   "execution_count": 35,
   "metadata": {},
   "outputs": [
    {
     "name": "stdout",
     "output_type": "stream",
     "text": [
      "0.11558206531864054\n"
     ]
    }
   ],
   "source": [
    "xgb_train_pred = xgb_model_full_data.predict(X)\n",
    "print(rmsle(y, xgb_train_pred))"
   ]
  },
  {
   "cell_type": "code",
   "execution_count": 36,
   "metadata": {},
   "outputs": [
    {
     "name": "stdout",
     "output_type": "stream",
     "text": [
      "0.05023589554799723\n"
     ]
    }
   ],
   "source": [
    "lgb_train_pred = lgb_model_full_data.predict(X)\n",
    "print(rmsle(y, lgb_train_pred))"
   ]
  },
  {
   "cell_type": "code",
   "execution_count": 39,
   "metadata": {},
   "outputs": [
    {
     "name": "stdout",
     "output_type": "stream",
     "text": [
      "RMSLE score on train data:\n",
      "0.0680234935955761\n"
     ]
    }
   ],
   "source": [
    "'''RMSE on the entire Train data when averaging'''\n",
    "\n",
    "print('RMSLE score on train data:')\n",
    "print(rmsle(y,stacked_train_pred*0.70 +\n",
    "               gbr_train_pred*0.15 + lgb_train_pred*0.15 ))"
   ]
  },
  {
   "cell_type": "code",
   "execution_count": 41,
   "metadata": {},
   "outputs": [],
   "source": [
    "stacked_pred = np.expm1(stack_gen_model.predict(df_X_test.values))\n",
    "xgb_pred = np.expm1(xgb_model_full_data.predict(df_X_test.values))\n",
    "lgb_pred = np.expm1(lgb_model_full_data.predict(df_X_test.values))\n",
    "gbr_pred = np.expm1(gbr_model_full_data.predict(df_X_test.values))"
   ]
  },
  {
   "cell_type": "code",
   "execution_count": 47,
   "metadata": {},
   "outputs": [],
   "source": [
    "#ensemble = stacked_pred*0.70 + xgb_pred*0.15 + lgb_pred*0.15 - scored 0.11665\n",
    "ensemble = stacked_pred*0.70 + gbr_pred*0.15 + lgb_pred*0.15 ## scored 0.11576\n",
    "#ensemble = stacked_pred*0.0 + gbr_pred*1 + lgb_pred*0.0 ## scored n scored 0.12423\n",
    "#ensemble = stacked_pred*1.0 + gbr_pred*0 + lgb_pred*0.0 ## scored n scored 0.11600\n",
    "#ensemble = stacked_pred*0.0 + gbr_pred*0 + lgb_pred*1.0 ## scored n scored ? 0.12147\n",
    "submission = pd.read_csv(\"./data/sample_submission.csv\")\n",
    "sub = pd.DataFrame()\n",
    "sub['Id'] = submission['Id'].values\n",
    "sub['SalePrice'] = ensemble\n",
    "sub.to_csv('submission.csv',index=False)"
   ]
  },
  {
   "cell_type": "code",
   "execution_count": null,
   "metadata": {},
   "outputs": [],
   "source": [
    "\n",
    "model_weights = {}\n",
    "model_weights = {'rf':0.01,'lasso':0.15, 'ridge':0.03, 'svr':0.01, 'gbr':0.2, 'xgb':0.15, 'lgb':0.15, 'stack':0.3}\n",
    "\n",
    "def blend_models_predict(X_pred):\n",
    "    return ((model_weights['rf'] * rf_model_full_data.predict(X_pred)) + \\\n",
    "            (model_weights['lasso'] * lasso_model_full_data.predict(X_pred)) + \\\n",
    "            (model_weights['ridge'] * ridge_model_full_data.predict(X_pred)) + \\\n",
    "            (model_weights['svr'] * svr_model_full_data.predict(X_pred)) + \\\n",
    "            (model_weights['gbr'] * gbr_model_full_data.predict(X_pred)) + \\\n",
    "            (model_weights['xgb'] * xgb_model_full_data.predict(X_pred)) + \\\n",
    "            (model_weights['lgb'] * lgb_model_full_data.predict(X_pred)) + \\\n",
    "            (model_weights['stack'] * stack_gen_model.predict(X_pred)))\n",
    "\n",
    "\n",
    "print('RMSLE score on train data:')\n",
    "print(X.shape)\n",
    "print(y.shape)\n",
    "#print(y.shape)\n",
    "#print(rmsle(y, blend_models_predict(X)))"
   ]
  },
  {
   "cell_type": "code",
   "execution_count": null,
   "metadata": {},
   "outputs": [],
   "source": [
    "X_test = df_X_test.iloc[:, 0:].values \n",
    "print(X_test.shape)\n",
    "#print(X_test[0:])\n",
    "print(\"Shape of output before prediction is {0}\".format(y_test.shape))\n",
    "print('Predict submission', datetime.now(),)\n",
    "submission = pd.read_csv(\"./data/sample_submission.csv\")\n",
    "print(submission.columns)\n",
    "submission.drop('SalePrice',axis=1)\n",
    "print(\"Shape of submission is {0}\".format(submission.shape))\n",
    "print(submission.columns)\n",
    "#submission.iloc[:,1] = np.floor(np.expm1(blend_models_predict(X_test)))\n",
    "#y_test = np.floor(np.expm1(blend_models_predict(X_test[0])))\n",
    "y_test = np.floor(np.expm1(xgb_model_full_data.predict(X_test)))### Working code\n",
    "#y_test = np.floor(np.expm1(blend_models_predict(X_test)))\n",
    "\n",
    "print(\"Shape of output is {0}\".format(y_test.shape))\n",
    "print(y_test)\n",
    "#y_test_reshaped = y_test.reshape(-1,1)\n",
    "\n",
    "submission.iloc[:,1] = y_test\n",
    "print(submission.head())\n",
    "print(\"^^^^^^^^^^^^^^^^^^^^^^^^^^^^^^^\")\n",
    "dataset = pd.DataFrame({'SalePrice':[ y_test]})\n",
    "\n",
    "print(y_test[0:5])\n",
    "print(len(y_test[0:2]))\n",
    "\n",
    "\n",
    "result = pd.concat([submission['Id'], dataset], axis=1, sort=False)\n",
    "print(result.head())\n",
    "#result.to_csv(\"submission.csv\", index=False)\n",
    "print('Save submission', datetime.now(),)"
   ]
  }
 ],
 "metadata": {
  "kernelspec": {
   "display_name": "Python 3",
   "language": "python",
   "name": "python3"
  },
  "language_info": {
   "codemirror_mode": {
    "name": "ipython",
    "version": 3
   },
   "file_extension": ".py",
   "mimetype": "text/x-python",
   "name": "python",
   "nbconvert_exporter": "python",
   "pygments_lexer": "ipython3",
   "version": "3.7.3"
  }
 },
 "nbformat": 4,
 "nbformat_minor": 2
}
